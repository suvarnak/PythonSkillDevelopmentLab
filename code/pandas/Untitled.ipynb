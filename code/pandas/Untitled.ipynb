{
 "cells": [
  {
   "cell_type": "code",
   "execution_count": null,
   "metadata": {},
   "outputs": [],
   "source": [
    "import pandas as pd\n",
    "s = pd.Series((1,2,3,4,5))\n"
   ]
  },
  {
   "cell_type": "code",
   "execution_count": 21,
   "metadata": {},
   "outputs": [
    {
     "name": "stdout",
     "output_type": "stream",
     "text": [
      " Volume in drive D is DATA\n",
      " Volume Serial Number is EE43-5475\n",
      "\n",
      " Directory of D:\\acads\\SDL\\code\\pandas\n",
      "\n",
      "28-08-2019  12:12    <DIR>          .\n",
      "28-08-2019  12:12    <DIR>          ..\n",
      "28-08-2019  10:41    <DIR>          .ipynb_checkpoints\n",
      "28-08-2019  10:40               212 data_processing_w_pandas.py\n",
      "28-08-2019  10:36           110,111 pandas_tutorial_read.csv\n",
      "28-08-2019  12:12               368 Pune_zoo.csv\n",
      "28-08-2019  10:48           110,111 test.csv\n",
      "28-08-2019  11:53             2,670 Untitled.ipynb\n",
      "28-08-2019  10:45               368 zoo.csv\n",
      "               6 File(s)        223,840 bytes\n",
      "               3 Dir(s)  816,649,043,968 bytes free\n"
     ]
    }
   ],
   "source": [
    "!dir"
   ]
  },
  {
   "cell_type": "code",
   "execution_count": null,
   "metadata": {},
   "outputs": [],
   "source": [
    "s"
   ]
  },
  {
   "cell_type": "code",
   "execution_count": null,
   "metadata": {},
   "outputs": [],
   "source": []
  },
  {
   "cell_type": "code",
   "execution_count": null,
   "metadata": {},
   "outputs": [],
   "source": []
  },
  {
   "cell_type": "code",
   "execution_count": null,
   "metadata": {},
   "outputs": [],
   "source": []
  },
  {
   "cell_type": "code",
   "execution_count": null,
   "metadata": {},
   "outputs": [],
   "source": []
  },
  {
   "cell_type": "code",
   "execution_count": null,
   "metadata": {},
   "outputs": [],
   "source": []
  },
  {
   "cell_type": "code",
   "execution_count": 28,
   "metadata": {},
   "outputs": [],
   "source": [
    "zoo =pd.read_csv('zoo.csv', delimiter = ',')\n",
    "\n"
   ]
  },
  {
   "cell_type": "code",
   "execution_count": 30,
   "metadata": {
    "scrolled": true
   },
   "outputs": [
    {
     "name": "stdout",
     "output_type": "stream",
     "text": [
      "      animal  uniq_id  water_need\n",
      "0   elephant     1001         500\n",
      "1   elephant     1002         600\n",
      "2   elephant     1003         550\n",
      "3      tiger     1004         300\n",
      "4      tiger     1005         320\n",
      "5      tiger     1006         330\n",
      "6      tiger     1007         290\n",
      "7      tiger     1008         310\n",
      "8      zebra     1009         200\n",
      "9      zebra     1010         220\n",
      "10     zebra     1011         240\n",
      "11     zebra     1012         230\n",
      "12     zebra     1013         220\n",
      "13     zebra     1014         100\n",
      "14     zebra     1015          80\n",
      "15      lion     1016         420\n",
      "16      lion     1017         600\n",
      "17      lion     1018         500\n",
      "18      lion     1019         390\n",
      "19  kangaroo     1020         410\n",
      "20  kangaroo     1021         430\n",
      "21  kangaroo     1022         410\n"
     ]
    }
   ],
   "source": [
    "print(zoo)"
   ]
  },
  {
   "cell_type": "code",
   "execution_count": 33,
   "metadata": {},
   "outputs": [
    {
     "name": "stdout",
     "output_type": "stream",
     "text": [
      "0      True\n",
      "1      True\n",
      "2      True\n",
      "3      True\n",
      "4      True\n",
      "5      True\n",
      "6      True\n",
      "7      True\n",
      "8     False\n",
      "9      True\n",
      "10     True\n",
      "11     True\n",
      "12     True\n",
      "13    False\n",
      "14    False\n",
      "15     True\n",
      "16     True\n",
      "17     True\n",
      "18     True\n",
      "19     True\n",
      "20     True\n",
      "21     True\n",
      "Name: water_need, dtype: bool\n"
     ]
    }
   ],
   "source": [
    "print(zoo.water_need >= 220)"
   ]
  },
  {
   "cell_type": "code",
   "execution_count": 36,
   "metadata": {},
   "outputs": [
    {
     "ename": "AttributeError",
     "evalue": "'DataFrame' object has no attribute 'zoo'",
     "output_type": "error",
     "traceback": [
      "\u001b[1;31m---------------------------------------------------------------------------\u001b[0m",
      "\u001b[1;31mAttributeError\u001b[0m                            Traceback (most recent call last)",
      "\u001b[1;32m<ipython-input-36-59ae9dfe92c6>\u001b[0m in \u001b[0;36m<module>\u001b[1;34m()\u001b[0m\n\u001b[1;32m----> 1\u001b[1;33m \u001b[0mprint\u001b[0m\u001b[1;33m(\u001b[0m\u001b[0mzoo\u001b[0m\u001b[1;33m[\u001b[0m\u001b[0mzoo\u001b[0m\u001b[1;33m.\u001b[0m\u001b[0mzoo\u001b[0m\u001b[1;33m.\u001b[0m\u001b[0mwater_need\u001b[0m \u001b[1;33m>=\u001b[0m \u001b[1;36m220\u001b[0m \u001b[1;33m==\u001b[0m \u001b[1;32mTrue\u001b[0m\u001b[1;33m]\u001b[0m\u001b[1;33m)\u001b[0m\u001b[1;33m\u001b[0m\u001b[0m\n\u001b[0m",
      "\u001b[1;32mC:\\ProgramData\\Anaconda3\\lib\\site-packages\\pandas\\core\\generic.py\u001b[0m in \u001b[0;36m__getattr__\u001b[1;34m(self, name)\u001b[0m\n\u001b[0;32m   3612\u001b[0m             \u001b[1;32mif\u001b[0m \u001b[0mname\u001b[0m \u001b[1;32min\u001b[0m \u001b[0mself\u001b[0m\u001b[1;33m.\u001b[0m\u001b[0m_info_axis\u001b[0m\u001b[1;33m:\u001b[0m\u001b[1;33m\u001b[0m\u001b[0m\n\u001b[0;32m   3613\u001b[0m                 \u001b[1;32mreturn\u001b[0m \u001b[0mself\u001b[0m\u001b[1;33m[\u001b[0m\u001b[0mname\u001b[0m\u001b[1;33m]\u001b[0m\u001b[1;33m\u001b[0m\u001b[0m\n\u001b[1;32m-> 3614\u001b[1;33m             \u001b[1;32mreturn\u001b[0m \u001b[0mobject\u001b[0m\u001b[1;33m.\u001b[0m\u001b[0m__getattribute__\u001b[0m\u001b[1;33m(\u001b[0m\u001b[0mself\u001b[0m\u001b[1;33m,\u001b[0m \u001b[0mname\u001b[0m\u001b[1;33m)\u001b[0m\u001b[1;33m\u001b[0m\u001b[0m\n\u001b[0m\u001b[0;32m   3615\u001b[0m \u001b[1;33m\u001b[0m\u001b[0m\n\u001b[0;32m   3616\u001b[0m     \u001b[1;32mdef\u001b[0m \u001b[0m__setattr__\u001b[0m\u001b[1;33m(\u001b[0m\u001b[0mself\u001b[0m\u001b[1;33m,\u001b[0m \u001b[0mname\u001b[0m\u001b[1;33m,\u001b[0m \u001b[0mvalue\u001b[0m\u001b[1;33m)\u001b[0m\u001b[1;33m:\u001b[0m\u001b[1;33m\u001b[0m\u001b[0m\n",
      "\u001b[1;31mAttributeError\u001b[0m: 'DataFrame' object has no attribute 'zoo'"
     ]
    }
   ],
   "source": [
    "print(zoo[zoo.zoo.water_need >= 220 == True])"
   ]
  },
  {
   "cell_type": "code",
   "execution_count": 32,
   "metadata": {},
   "outputs": [
    {
     "data": {
      "text/html": [
       "<div>\n",
       "<style scoped>\n",
       "    .dataframe tbody tr th:only-of-type {\n",
       "        vertical-align: middle;\n",
       "    }\n",
       "\n",
       "    .dataframe tbody tr th {\n",
       "        vertical-align: top;\n",
       "    }\n",
       "\n",
       "    .dataframe thead th {\n",
       "        text-align: right;\n",
       "    }\n",
       "</style>\n",
       "<table border=\"1\" class=\"dataframe\">\n",
       "  <thead>\n",
       "    <tr style=\"text-align: right;\">\n",
       "      <th></th>\n",
       "      <th>animal</th>\n",
       "      <th>uniq_id</th>\n",
       "      <th>water_need</th>\n",
       "    </tr>\n",
       "  </thead>\n",
       "  <tbody>\n",
       "    <tr>\n",
       "      <th>14</th>\n",
       "      <td>zebra</td>\n",
       "      <td>1015</td>\n",
       "      <td>80</td>\n",
       "    </tr>\n",
       "    <tr>\n",
       "      <th>5</th>\n",
       "      <td>tiger</td>\n",
       "      <td>1006</td>\n",
       "      <td>330</td>\n",
       "    </tr>\n",
       "    <tr>\n",
       "      <th>6</th>\n",
       "      <td>tiger</td>\n",
       "      <td>1007</td>\n",
       "      <td>290</td>\n",
       "    </tr>\n",
       "    <tr>\n",
       "      <th>20</th>\n",
       "      <td>kangaroo</td>\n",
       "      <td>1021</td>\n",
       "      <td>430</td>\n",
       "    </tr>\n",
       "    <tr>\n",
       "      <th>3</th>\n",
       "      <td>tiger</td>\n",
       "      <td>1004</td>\n",
       "      <td>300</td>\n",
       "    </tr>\n",
       "    <tr>\n",
       "      <th>16</th>\n",
       "      <td>lion</td>\n",
       "      <td>1017</td>\n",
       "      <td>600</td>\n",
       "    </tr>\n",
       "    <tr>\n",
       "      <th>9</th>\n",
       "      <td>zebra</td>\n",
       "      <td>1010</td>\n",
       "      <td>220</td>\n",
       "    </tr>\n",
       "  </tbody>\n",
       "</table>\n",
       "</div>"
      ],
      "text/plain": [
       "      animal  uniq_id  water_need\n",
       "14     zebra     1015          80\n",
       "5      tiger     1006         330\n",
       "6      tiger     1007         290\n",
       "20  kangaroo     1021         430\n",
       "3      tiger     1004         300\n",
       "16      lion     1017         600\n",
       "9      zebra     1010         220"
      ]
     },
     "execution_count": 32,
     "metadata": {},
     "output_type": "execute_result"
    }
   ],
   "source": [
    "any_7 = zoo.sample(7)\n",
    "any_7"
   ]
  },
  {
   "cell_type": "code",
   "execution_count": null,
   "metadata": {},
   "outputs": [],
   "source": []
  },
  {
   "cell_type": "code",
   "execution_count": null,
   "metadata": {},
   "outputs": [],
   "source": []
  },
  {
   "cell_type": "code",
   "execution_count": null,
   "metadata": {},
   "outputs": [],
   "source": []
  },
  {
   "cell_type": "code",
   "execution_count": null,
   "metadata": {},
   "outputs": [],
   "source": []
  },
  {
   "cell_type": "code",
   "execution_count": null,
   "metadata": {},
   "outputs": [],
   "source": []
  },
  {
   "cell_type": "code",
   "execution_count": null,
   "metadata": {},
   "outputs": [],
   "source": [
    "!dir"
   ]
  },
  {
   "cell_type": "code",
   "execution_count": 25,
   "metadata": {},
   "outputs": [],
   "source": [
    "articles_read = pd.read_csv('pandas_tutorial_read.csv', delimiter=';')\n",
    "\n"
   ]
  },
  {
   "cell_type": "markdown",
   "metadata": {},
   "source": [
    "1) Print the whole dataframe\n"
   ]
  },
  {
   "cell_type": "code",
   "execution_count": 27,
   "metadata": {},
   "outputs": [
    {
     "name": "stdout",
     "output_type": "stream",
     "text": [
      "      2018-01-01 00:01:01  read  country_7  2458151261      SEO  North America\n",
      "0     2018-01-01 00:03:20  read  country_7  2458151262      SEO  South America\n",
      "1     2018-01-01 00:04:01  read  country_7  2458151263  AdWords         Africa\n",
      "2     2018-01-01 00:04:02  read  country_7  2458151264  AdWords         Europe\n",
      "3     2018-01-01 00:05:03  read  country_8  2458151265   Reddit  North America\n",
      "4     2018-01-01 00:05:42  read  country_6  2458151266   Reddit  North America\n",
      "5     2018-01-01 00:06:06  read  country_2  2458151267   Reddit         Europe\n",
      "6     2018-01-01 00:06:15  read  country_6  2458151268  AdWords         Europe\n",
      "7     2018-01-01 00:07:21  read  country_7  2458151269  AdWords  North America\n",
      "8     2018-01-01 00:07:29  read  country_5  2458151270   Reddit  North America\n",
      "9     2018-01-01 00:07:57  read  country_5  2458151271  AdWords           Asia\n",
      "10    2018-01-01 00:08:57  read  country_7  2458151272      SEO      Australia\n",
      "11    2018-01-01 00:09:11  read  country_5  2458151273   Reddit           Asia\n",
      "12    2018-01-01 00:09:29  read  country_2  2458151274   Reddit         Europe\n",
      "13    2018-01-01 00:11:06  read  country_7  2458151275   Reddit         Africa\n",
      "14    2018-01-01 00:11:22  read  country_7  2458151276      SEO  North America\n",
      "15    2018-01-01 00:13:05  read  country_8  2458151277      SEO  North America\n",
      "16    2018-01-01 00:13:06  read  country_2  2458151278   Reddit           Asia\n",
      "17    2018-01-01 00:13:39  read  country_4  2458151279      SEO  North America\n",
      "18    2018-01-01 00:14:53  read  country_2  2458151280   Reddit           Asia\n",
      "19    2018-01-01 00:15:44  read  country_2  2458151281   Reddit           Asia\n",
      "20    2018-01-01 00:15:50  read  country_7  2458151282   Reddit         Africa\n",
      "21    2018-01-01 00:17:15  read  country_2  2458151283  AdWords         Europe\n",
      "22    2018-01-01 00:17:31  read  country_2  2458151284   Reddit           Asia\n",
      "23    2018-01-01 00:17:58  read  country_7  2458151285   Reddit         Africa\n",
      "24    2018-01-01 00:18:55  read  country_2  2458151286  AdWords  North America\n",
      "25    2018-01-01 00:20:18  read  country_5  2458151287      SEO  North America\n",
      "26    2018-01-01 00:20:44  read  country_2  2458151288      SEO  North America\n",
      "27    2018-01-01 00:23:16  read  country_2  2458151289   Reddit           Asia\n",
      "28    2018-01-01 00:23:51  read  country_7  2458151290   Reddit           Asia\n",
      "29    2018-01-01 00:24:52  read  country_6  2458151291      SEO  North America\n",
      "...                   ...   ...        ...         ...      ...            ...\n",
      "1764  2018-01-01 23:41:11  read  country_2  2458153026   Reddit         Africa\n",
      "1765  2018-01-01 23:41:51  read  country_5  2458153027  AdWords           Asia\n",
      "1766  2018-01-01 23:43:54  read  country_5  2458153028  AdWords         Europe\n",
      "1767  2018-01-01 23:44:52  read  country_8  2458153029   Reddit  South America\n",
      "1768  2018-01-01 23:45:09  read  country_5  2458153030  AdWords      Australia\n",
      "1769  2018-01-01 23:45:12  read  country_6  2458153031   Reddit           Asia\n",
      "1770  2018-01-01 23:45:56  read  country_5  2458153032  AdWords         Africa\n",
      "1771  2018-01-01 23:45:58  read  country_7  2458153033      SEO  South America\n",
      "1772  2018-01-01 23:46:13  read  country_8  2458153034   Reddit           Asia\n",
      "1773  2018-01-01 23:46:22  read  country_2  2458153035  AdWords           Asia\n",
      "1774  2018-01-01 23:47:19  read  country_2  2458153036  AdWords           Asia\n",
      "1775  2018-01-01 23:49:04  read  country_6  2458153037   Reddit           Asia\n",
      "1776  2018-01-01 23:49:52  read  country_5  2458153038      SEO  North America\n",
      "1777  2018-01-01 23:51:17  read  country_2  2458153039   Reddit           Asia\n",
      "1778  2018-01-01 23:51:25  read  country_4  2458153040      SEO  South America\n",
      "1779  2018-01-01 23:51:46  read  country_8  2458153041  AdWords         Africa\n",
      "1780  2018-01-01 23:51:52  read  country_2  2458153042   Reddit           Asia\n",
      "1781  2018-01-01 23:53:03  read  country_2  2458153043  AdWords           Asia\n",
      "1782  2018-01-01 23:53:33  read  country_3  2458153044   Reddit           Asia\n",
      "1783  2018-01-01 23:54:03  read  country_2  2458153045      SEO  North America\n",
      "1784  2018-01-01 23:54:26  read  country_2  2458153046  AdWords         Africa\n",
      "1785  2018-01-01 23:54:39  read  country_6  2458153047   Reddit           Asia\n",
      "1786  2018-01-01 23:54:45  read  country_2  2458153048   Reddit           Asia\n",
      "1787  2018-01-01 23:55:04  read  country_7  2458153049  AdWords         Europe\n",
      "1788  2018-01-01 23:56:42  read  country_4  2458153050  AdWords           Asia\n",
      "1789  2018-01-01 23:57:14  read  country_2  2458153051  AdWords  North America\n",
      "1790  2018-01-01 23:58:33  read  country_8  2458153052      SEO           Asia\n",
      "1791  2018-01-01 23:59:36  read  country_6  2458153053   Reddit           Asia\n",
      "1792  2018-01-01 23:59:36  read  country_7  2458153054  AdWords         Europe\n",
      "1793  2018-01-01 23:59:38  read  country_5  2458153055   Reddit           Asia\n",
      "\n",
      "[1794 rows x 6 columns]\n"
     ]
    }
   ],
   "source": [
    "print(articles_read)"
   ]
  },
  {
   "cell_type": "markdown",
   "metadata": {},
   "source": [
    "2) Print a sample of your dataframe\n"
   ]
  },
  {
   "cell_type": "code",
   "execution_count": null,
   "metadata": {},
   "outputs": [],
   "source": [
    "artcicles_read.head()\n",
    "\n"
   ]
  },
  {
   "cell_type": "code",
   "execution_count": null,
   "metadata": {},
   "outputs": [],
   "source": []
  }
 ],
 "metadata": {
  "kernelspec": {
   "display_name": "Python 3",
   "language": "python",
   "name": "python3"
  },
  "language_info": {
   "codemirror_mode": {
    "name": "ipython",
    "version": 3
   },
   "file_extension": ".py",
   "mimetype": "text/x-python",
   "name": "python",
   "nbconvert_exporter": "python",
   "pygments_lexer": "ipython3",
   "version": "3.6.5"
  }
 },
 "nbformat": 4,
 "nbformat_minor": 2
}
